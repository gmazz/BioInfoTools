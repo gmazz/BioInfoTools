{
  "nbformat": 4,
  "nbformat_minor": 0,
  "metadata": {
    "colab": {
      "name": "myproj_1.ipynb",
      "private_outputs": true,
      "provenance": [],
      "collapsed_sections": [
        "s61GOIrxPGwz",
        "NCjNeXrkPM70"
      ],
      "mount_file_id": "https://gist.github.com/gmazz/07c700aa0b6893716d2857b6de6587b2#file-myproj_1-ipynb",
      "authorship_tag": "ABX9TyPfFr7GzIKvs5mmgLlfkN3F",
      "include_colab_link": true
    },
    "kernelspec": {
      "name": "python3",
      "display_name": "Python 3"
    },
    "language_info": {
      "name": "python"
    }
  },
  "cells": [
    {
      "cell_type": "markdown",
      "metadata": {
        "id": "view-in-github",
        "colab_type": "text"
      },
      "source": [
        "<a href=\"https://colab.research.google.com/github/gmazz/BioInfoTools/blob/master/proj1/myproj_1.ipynb\" target=\"_parent\"><img src=\"https://colab.research.google.com/assets/colab-badge.svg\" alt=\"Open In Colab\"/></a>"
      ]
    },
    {
      "cell_type": "markdown",
      "metadata": {
        "id": "s61GOIrxPGwz"
      },
      "source": [
        "### Installing dependencies"
      ]
    },
    {
      "cell_type": "code",
      "metadata": {
        "id": "RqbRTODLKUJo"
      },
      "source": [
        "!pip install Bio\n",
        "#!pip install tcrdist3"
      ],
      "execution_count": null,
      "outputs": []
    },
    {
      "cell_type": "markdown",
      "metadata": {
        "id": "NCjNeXrkPM70"
      },
      "source": [
        "### Importing libraries "
      ]
    },
    {
      "cell_type": "code",
      "metadata": {
        "id": "gs6nke30PAXB"
      },
      "source": [
        "import torch \n",
        "import Bio\n",
        "import pandas as pd"
      ],
      "execution_count": null,
      "outputs": []
    },
    {
      "cell_type": "markdown",
      "metadata": {
        "id": "9WgQVjdoZ236"
      },
      "source": [
        "### Loading data"
      ]
    },
    {
      "cell_type": "code",
      "metadata": {
        "id": "yW-nCry7KWbH"
      },
      "source": [
        "\n",
        "df = pd.read_csv(\"/content/drive/MyDrive/Colab_data/TCRdata/zhang_phla_tcr.csv\")"
      ],
      "execution_count": null,
      "outputs": []
    },
    {
      "cell_type": "code",
      "metadata": {
        "id": "akJNoADeLLEN"
      },
      "source": [
        "df"
      ],
      "execution_count": null,
      "outputs": []
    },
    {
      "cell_type": "code",
      "metadata": {
        "id": "2jKBwyMwZpLh"
      },
      "source": [
        ""
      ],
      "execution_count": null,
      "outputs": []
    }
  ]
}