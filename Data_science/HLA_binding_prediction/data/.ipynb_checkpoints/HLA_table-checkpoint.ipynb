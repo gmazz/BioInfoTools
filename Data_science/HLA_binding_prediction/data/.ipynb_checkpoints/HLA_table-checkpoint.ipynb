{
 "cells": [
  {
   "cell_type": "code",
   "execution_count": 130,
   "metadata": {
    "collapsed": false
   },
   "outputs": [],
   "source": [
    "import numpy as np\n",
    "import pandas as pd\n",
    "import sys, os\n",
    "import collections\n",
    "import matplotlib.pyplot as plt\n",
    "import Bio"
   ]
  },
  {
   "cell_type": "markdown",
   "metadata": {},
   "source": [
    "## This section is for table reading:"
   ]
  },
  {
   "cell_type": "code",
   "execution_count": 63,
   "metadata": {
    "collapsed": false
   },
   "outputs": [],
   "source": [
    "root = os.getcwd()\n",
    "data = root+'/affinity_data.csv'\n",
    "data_ref = root+'/affinity_data_refined.csv'\n",
    "\n",
    "def to_number(s):\n",
    "    try:\n",
    "        s1 = float(s)\n",
    "        return s1\n",
    "    except ValueError:\n",
    "        return s"
   ]
  },
  {
   "cell_type": "code",
   "execution_count": 69,
   "metadata": {
    "collapsed": false
   },
   "outputs": [],
   "source": [
    "# Additional block for data manipulation\n",
    "\n",
    "#df = df.replace('-', 50000)\n",
    "#res = df.applymap(lambda x: to_number(x))\n",
    "#res['DPB1:04:01'][0]\n",
    "#df.to_csv(data_ref,sep=',', mode='w', index=False)"
   ]
  },
  {
   "cell_type": "markdown",
   "metadata": {},
   "source": [
    "## Nested Dict HLA-peptide IC50: "
   ]
  },
  {
   "cell_type": "code",
   "execution_count": 141,
   "metadata": {
    "collapsed": false
   },
   "outputs": [],
   "source": [
    "class NestedDict(dict):\n",
    "    def __missing__(self, key):\n",
    "        self[key] = type(self)()\n",
    "        return self[key]\n",
    "\n",
    "aff = NestedDict()     \n",
    "df = pd.read_csv(data, index_col=0)\n",
    "for k,v in df.stack().iteritems():\n",
    "    aff[k[0]][k[1]] = v\n",
    "\n",
    "#for k,v in aff.iteritems():\n",
    "#    for k1,v1 in v.iteritems():\n",
    "#        print k,k1,v1\n"
   ]
  },
  {
   "cell_type": "markdown",
   "metadata": {},
   "source": [
    "## HQI function"
   ]
  },
  {
   "cell_type": "code",
   "execution_count": null,
   "metadata": {
    "collapsed": true
   },
   "outputs": [],
   "source": []
  },
  {
   "cell_type": "markdown",
   "metadata": {},
   "source": [
    "## Peptide reading: "
   ]
  },
  {
   "cell_type": "code",
   "execution_count": null,
   "metadata": {
    "collapsed": false
   },
   "outputs": [],
   "source": []
  },
  {
   "cell_type": "markdown",
   "metadata": {
    "collapsed": false
   },
   "source": [
    "## HLA_descriptors:"
   ]
  },
  {
   "cell_type": "code",
   "execution_count": 167,
   "metadata": {
    "collapsed": false
   },
   "outputs": [],
   "source": []
  },
  {
   "cell_type": "code",
   "execution_count": 168,
   "metadata": {
    "collapsed": false
   },
   "outputs": [],
   "source": [
    "# Plot subtypes\n",
    "#subtypes = pd.value_counts(df_subtypes.ravel()).sort_index()\n",
    "#subtypes.plot(kind='bar')\n",
    "#plt.show()"
   ]
  }
 ],
 "metadata": {
  "kernelspec": {
   "display_name": "Python 2",
   "language": "python",
   "name": "python2"
  },
  "language_info": {
   "codemirror_mode": {
    "name": "ipython",
    "version": 2
   },
   "file_extension": ".py",
   "mimetype": "text/x-python",
   "name": "python",
   "nbconvert_exporter": "python",
   "pygments_lexer": "ipython2",
   "version": "2.7.9"
  }
 },
 "nbformat": 4,
 "nbformat_minor": 0
}
