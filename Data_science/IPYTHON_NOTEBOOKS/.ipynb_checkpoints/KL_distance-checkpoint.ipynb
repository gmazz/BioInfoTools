{
 "metadata": {
  "name": "",
  "signature": "sha256:a422164e84d7054a4d01c2190776d94d4a80efed908890f36541125d0c0faff7"
 },
 "nbformat": 3,
 "nbformat_minor": 0,
 "worksheets": [
  {
   "cells": [
    {
     "cell_type": "markdown",
     "metadata": {},
     "source": [
      "Kullback-Leibler divergence D(P || Q) for discrete distributions\n",
      "\n",
      "Parameters:\n",
      "\n",
      "p, q : array-like, dtype=float, shape=n\n",
      "Discrete probability distributions."
     ]
    },
    {
     "cell_type": "code",
     "collapsed": false,
     "input": [
      "import numpy as np\n",
      "\n",
      "def kl(p, q):\n",
      "\n",
      "    p = np.asarray(p, dtype=np.float)\n",
      "    q = np.asarray(q, dtype=np.float)\n",
      "\n",
      "    return np.sum(np.where(p != 0, p * np.log(p / q), 0))"
     ],
     "language": "python",
     "metadata": {},
     "outputs": [
      {
       "ename": "SyntaxError",
       "evalue": "'return' outside function (<ipython-input-2-24cae6042441>, line 8)",
       "output_type": "pyerr",
       "traceback": [
        "\u001b[0;36m  File \u001b[0;32m\"<ipython-input-2-24cae6042441>\"\u001b[0;36m, line \u001b[0;32m8\u001b[0m\n\u001b[0;31m    return np.sum(np.where(p != 0, p * np.log(p / q), 0))\u001b[0m\n\u001b[0;31mSyntaxError\u001b[0m\u001b[0;31m:\u001b[0m 'return' outside function\n"
       ]
      }
     ],
     "prompt_number": 2
    },
    {
     "cell_type": "code",
     "collapsed": false,
     "input": [],
     "language": "python",
     "metadata": {},
     "outputs": []
    }
   ],
   "metadata": {}
  }
 ]
}