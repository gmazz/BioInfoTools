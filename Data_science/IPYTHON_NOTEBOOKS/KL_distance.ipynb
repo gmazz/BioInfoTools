{
 "metadata": {
  "name": "",
  "signature": "sha256:e6ccf3d77a3913ef482d699cc03b5e4a86a910966c7a69ce8919091d620ea546"
 },
 "nbformat": 3,
 "nbformat_minor": 0,
 "worksheets": [
  {
   "cells": [
    {
     "cell_type": "markdown",
     "metadata": {},
     "source": [
      "Kullback-Leibler divergence D(P || Q) for discrete distributions\n",
      "\n",
      "Parameters:\n",
      "\n",
      "p, q : array-like, dtype=float, shape=n\n",
      "Discrete probability distributions."
     ]
    },
    {
     "cell_type": "code",
     "collapsed": false,
     "input": [
      "import numpy as np\n",
      "\n",
      "def kl(p, q):\n",
      "\n",
      "    p = np.asarray(p, dtype=np.float)\n",
      "    q = np.asarray(q, dtype=np.float)\n",
      "\n",
      "    return np.sum(np.where(p != 0, p * np.log(p / q), 0))"
     ],
     "language": "python",
     "metadata": {},
     "outputs": [],
     "prompt_number": 3
    },
    {
     "cell_type": "code",
     "collapsed": false,
     "input": [
      "a= [1,1,1,2,2,2]\n",
      "b= [3,3,3,0,0,0]\n",
      "c= [6,5,4,3,2,1]\n",
      "d= [1,5,2,5,9,8]\n",
      "\n",
      "print kl(a, b)"
     ],
     "language": "python",
     "metadata": {},
     "outputs": [
      {
       "output_type": "stream",
       "stream": "stdout",
       "text": [
        "inf\n"
       ]
      }
     ],
     "prompt_number": 16
    },
    {
     "cell_type": "code",
     "collapsed": false,
     "input": [],
     "language": "python",
     "metadata": {},
     "outputs": []
    }
   ],
   "metadata": {}
  }
 ]
}