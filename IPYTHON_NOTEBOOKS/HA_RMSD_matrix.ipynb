{
 "metadata": {
  "name": "",
  "signature": "sha256:1ba481807f6526fb2bb6c5189aea43eedbdb6a06b747e9895b542a5f01307041"
 },
 "nbformat": 3,
 "nbformat_minor": 0,
 "worksheets": []
}