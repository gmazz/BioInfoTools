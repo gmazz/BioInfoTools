{
 "worksheets": [
  {
   "cells": [
    {
     "cell_type": "heading",
     "metadata": {},
     "level": 3,
     "source": [
      "Displaying distance matrices"
     ]
    },
    {
     "cell_type": "markdown",
     "metadata": {},
     "source": [
      "Read csv tables and display distrance matrices among objects (i.e. RMSD values between all proteins)"
     ]
    },
    {
     "cell_type": "code",
     "metadata": {},
     "outputs": [],
     "input": [
      "import numpy as np\n",
      "import pandas as pd\n",
      "from numba import jit\n",
      "import time\n",
      "import matplotlib.pyplot as plt"
     ],
     "language": "python",
     "prompt_number": 51
    },
    {
     "cell_type": "code",
     "metadata": {},
     "outputs": [],
     "input": [
      "# Block to evalutate operational time on a given function (i.e. main()).\n",
      "# Useful to compare performances of the numba @jit.\n",
      "\n",
      "#import time\n",
      "#start_time = time.time()\n",
      "#main()\n",
      "#print(\"--- %s seconds ---\" % time.time() - start_time)"
     ],
     "language": "python",
     "prompt_number": 157
    },
    {
     "cell_type": "code",
     "metadata": {},
     "outputs": [],
     "input": [
      "df = pd.read_csv('./data/crystals_TMscore_tab.csv', index_col='p_id')\n",
      "maps = pd.read_csv('./data/id_crystals_classes_known.csv', index_col='p_id')\n",
      "\n",
      "#df = pd.read_csv('./data/RMSD_scores_global_tab.csv', index_col='p_id')\n",
      "#maps = pd.read_csv('./data/id_classes.csv', index_col='p_id')"
     ],
     "language": "python",
     "prompt_number": 52
    },
    {
     "cell_type": "code",
     "metadata": {},
     "outputs": [],
     "input": [
      "# Table subselection for testing\n",
      "n_init = 0\n",
      "n_end = len(df.index)\n",
      "n_end = 500\n",
      "selection = df.ix[n_init:n_end, n_init:n_end]"
     ],
     "language": "python",
     "prompt_number": 53
    },
    {
     "cell_type": "code",
     "metadata": {},
     "outputs": [],
     "input": [
      "# Merging data with id-serotype map\n",
      "data = pd.merge(maps, selection, right_on=selection.index, left_on=maps.index, how='inner')\n",
      "data = data.rename(columns={'key_0':'p_id'})\n",
      "data = data.set_index(['p_id'])\n",
      "\n",
      "# Ordering by serotype and repositioning columns with respect to new row position\n",
      "data = data.sort(['sero',], ascending=[0])\n",
      "data = data.reindex(columns=data.index)"
     ],
     "language": "python",
     "prompt_number": 54
    },
    {
     "cell_type": "code",
     "metadata": {},
     "outputs": [],
     "input": [
      "# Export table and list to csv files ...\n",
      "#data.to_csv('sorted_table_2', sep='\\t')"
     ],
     "language": "python",
     "prompt_number": 32
    },
    {
     "cell_type": "code",
     "metadata": {},
     "outputs": [
      {
       "output_type": "pyout",
       "prompt_number": 55,
       "text": [
        "Index(['1jsi', '1jsd', '1jsh', '4n62', '4n63', '4n64', '4n5k', '4bsd', '4bsa', '4ln6', '4ln8', '4ln3', '4bsc', '4n5j', '4bsb', '4n60', '4n61', '4bse', '4ln4', '4bsf', '4dj6', '4fqv', '4dj8', '4dj7', '4bsi', '4bsh', '4bsg', '1ti8', '3m5i', '3m5h', '3m5g', '3m5j', '1jsn', '1jso', '1jsm', '3zpb', '4kwm', '4kw1', '4kth', '4kdq', '4kdo', '4kdn', '4kdm', '4k67', '4k66', '4juk', '4jul', '4jum', '4jun', '4k62', '4k63', '4k64', '4k65', '3zp0', '3fku', '3gbm', '3s11', '3zp1', '3zp2', '3s12', '3s13', '4bh4', '4cqp', '4cqq', '4cqr', '4cqs', '4cqt', '4cqu', '4cqv', '4cqw', '4cqx', '4cqy', '4cqz', '4cr0', '4n5z', '4n5y', '4mhj', '2fk0', '4fqi', '4mhi', '3zp6', '3znk', '3znl', '3znm', '3zp3', '2ibx', '4bgw', '4bgx', '4bgy', '4bgz', '4bh0', '4bh1', '4bh2', '4bh3', '4uo1', '4uo5', '4uo6', '4uo7', '4uo8', '4uo9', ...], dtype='object')"
       ],
       "metadata": {}
      }
     ],
     "input": [
      "# Take the class names (ref and cl lists can be used for serotype/protein data labeling)\n",
      "ref = data.index\n",
      "cl = [maps.sero[i] for i in ref]\n",
      "\n",
      "data.index\n",
      "# This doesn't work, report the bug to developers\n",
      "#\n",
      "#ref_class = open('ref_class.txt', 'a')\n",
      "#[ref_class.write('%s\\n' %j) for j in cl]"
     ],
     "language": "python",
     "prompt_number": 55
    },
    {
     "cell_type": "code",
     "metadata": {},
     "outputs": [],
     "input": [
      "# Cell for plotting heatmap\n",
      "@jit\n",
      "def plot():\n",
      "    %matplotlib inline\n",
      "    fig = plt.figure(figsize=(50, 50), dpi=100)\n",
      "\n",
      "    plt.pcolor(data, cmap=plt.cm.Blues)\n",
      "    #plt.xticks(np.arange(min(data.index), max(data.index)+10, fontsize=30))\n",
      "    plt.xticks(np.arange(0.5, len(data.index), 1), cl, fontsize=5, rotation='vertical')\n",
      "    plt.yticks(np.arange(0.5, len(data.columns), 1), cl, fontsize=5, rotation='horizontal')\n",
      "    #plt.show()\n",
      "    \n",
      "    fig1 = plt.gcf()\n",
      "    plt.show()\n",
      "    plt.draw()\n",
      "    #fig1.savefig('tessstttyyy.png', dpi=300)\n",
      "    \n",
      "#plot()"
     ],
     "language": "python",
     "prompt_number": 50
    },
    {
     "cell_type": "code",
     "metadata": {},
     "outputs": [],
     "input": [
      ""
     ],
     "language": "python"
    }
   ]
  }
 ],
 "cells": [],
 "metadata": {
  "name": "",
  "signature": "sha256:9398129c7b1ae3733af8a2d73c66f649f65a6869089e348bd11b5e8c1b2ad756"
 },
 "nbformat": 3,
 "nbformat_minor": 0
}