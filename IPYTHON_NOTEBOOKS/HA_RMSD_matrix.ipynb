{
 "metadata": {
  "name": "",
  "signature": "sha256:2c1858bb0e66aed400ee2922e16ad1b437acc423e1f2781d7b8e59ef0a8b3f10"
 },
 "nbformat": 3,
 "nbformat_minor": 0,
 "worksheets": [
  {
   "cells": [
    {
     "cell_type": "heading",
     "level": 3,
     "metadata": {},
     "source": [
      "Displaying distance matrices"
     ]
    },
    {
     "cell_type": "markdown",
     "metadata": {},
     "source": [
      "Read csv tables and display distrance matrices among objects (i.e. RMSD values between all proteins)"
     ]
    },
    {
     "cell_type": "code",
     "collapsed": false,
     "input": [
      "import numpy as np\n",
      "import pandas as pd\n",
      "from numba import jit\n",
      "import time\n",
      "import matplotlib.pyplot as plt"
     ],
     "language": "python",
     "metadata": {},
     "outputs": [],
     "prompt_number": 31
    },
    {
     "cell_type": "code",
     "collapsed": false,
     "input": [
      "# Block to evalutate operational time on a given function (i.e. main()).\n",
      "# Useful to compare performances of the numba @jit.\n",
      "\n",
      "#import time\n",
      "#start_time = time.time()\n",
      "#main()\n",
      "#print(\"--- %s seconds ---\" % time.time() - start_time)"
     ],
     "language": "python",
     "metadata": {},
     "outputs": [],
     "prompt_number": 157
    },
    {
     "cell_type": "code",
     "collapsed": false,
     "input": [
      "df = pd.read_csv('./data/RMSD_scores_global_tab.csv', index_col='p_id')\n",
      "maps = pd.read_csv('./data/id_classes.csv', index_col='p_id')\n",
      "maps.index"
     ],
     "language": "python",
     "metadata": {},
     "outputs": [
      {
       "metadata": {},
       "output_type": "pyout",
       "prompt_number": 32,
       "text": [
        "Index([u'ABB87844', u'ACF20226', u'ACF74233', u'AEK49568', u'AEM75431', u'AGG27706', u'AGG27718', u'AGG27863', u'AGG27899', u'AGL58994', u'AGL60617', u'AGL60763', u'AGL60775', u'AGL60823', u'AHM24205', u'AHN97094', u'AHZ43337', u'AB551875', u'AB558348', u'ACT33159', u'ADF58349', u'ADG85225', u'ADG85233', u'ADI52834', u'ADI52836', u'ADI52837', u'ADM23846', u'ADM23847', u'ADM23851', u'ADP05204', u'ADT64317', u'ADW93789', u'AEA29595', u'AEB80459', u'AEF28999', u'AEF33067', u'AEJ82796', u'AEM63482', u'AEN55513', u'AEV40002', u'AEZ01103', u'AFE02952', u'AFF57124', u'AFM46517', u'AFM46518', u'AFM46639', u'AFM46999', u'AFN18875', u'AFP36183', u'AFQ37281', u'AFX65229', u'AGA19235', u'AGA19305', u'AGC13458', u'AGE84002', u'AGF37648', u'AGG86873', u'AGI52981', u'AGI52989', u'AGI54182', u'AGJ73367', u'AGK72773', u'AGK73228', u'AGK73290', u'AGL04595', u'AGL04629', u'AGL05056', u'AGO86678', u'AGT18720', u'AGT18721', u'AGT18723', u'AGT18724', u'AGU92777', u'AGW83306', u'AGW83314', u'AHA38580', u'AHA57090', u'AHF20501', u'AHG26890', u'AHJ57430', u'AHJ57431', u'AHJ57435', u'AHN19444', u'AHV83802', u'AHX38144', u'AHY84466', u'AIA66646', u'AIB06034', u'AIC73740', u'AIC73767', u'AIC73827', u'AIC73834', u'BAJ06679', u'BAM37808', u'CCD31011', u'CY041814', u'CY046699', u'CY047899', u'CY051231', u'CY052045', ...], dtype='object')"
       ]
      }
     ],
     "prompt_number": 32
    },
    {
     "cell_type": "code",
     "collapsed": false,
     "input": [],
     "language": "python",
     "metadata": {},
     "outputs": []
    },
    {
     "cell_type": "code",
     "collapsed": false,
     "input": [
      "# Table subselection for testing\n",
      "n_init = 0\n",
      "#n_end = len(df.index)\n",
      "n_end = 10\n",
      "selection = df.ix[n_init:n_end, n_init:n_end]\n",
      "selection"
     ],
     "language": "python",
     "metadata": {},
     "outputs": [
      {
       "html": [
        "<div style=\"max-height:1000px;max-width:1500px;overflow:auto;\">\n",
        "<table border=\"1\" class=\"dataframe\">\n",
        "  <thead>\n",
        "    <tr style=\"text-align: right;\">\n",
        "      <th></th>\n",
        "      <th>AAA43090</th>\n",
        "      <th>AAA43117</th>\n",
        "      <th>AAA43185</th>\n",
        "      <th>AAA43205</th>\n",
        "      <th>AAA43243</th>\n",
        "      <th>AAA43247</th>\n",
        "      <th>AAA43248</th>\n",
        "      <th>AAA43578</th>\n",
        "      <th>AAA43678</th>\n",
        "      <th>AAA72339</th>\n",
        "    </tr>\n",
        "    <tr>\n",
        "      <th>p_id</th>\n",
        "      <th></th>\n",
        "      <th></th>\n",
        "      <th></th>\n",
        "      <th></th>\n",
        "      <th></th>\n",
        "      <th></th>\n",
        "      <th></th>\n",
        "      <th></th>\n",
        "      <th></th>\n",
        "      <th></th>\n",
        "    </tr>\n",
        "  </thead>\n",
        "  <tbody>\n",
        "    <tr>\n",
        "      <th>AAA43090</th>\n",
        "      <td> 0.00</td>\n",
        "      <td> 0.11</td>\n",
        "      <td> 0.11</td>\n",
        "      <td> 1.02</td>\n",
        "      <td> 0.10</td>\n",
        "      <td> 0.13</td>\n",
        "      <td> 0.13</td>\n",
        "      <td> 0.12</td>\n",
        "      <td> 0.14</td>\n",
        "      <td> 1.09</td>\n",
        "    </tr>\n",
        "    <tr>\n",
        "      <th>AAA43117</th>\n",
        "      <td> 0.11</td>\n",
        "      <td> 0.00</td>\n",
        "      <td> 0.12</td>\n",
        "      <td> 1.02</td>\n",
        "      <td> 0.08</td>\n",
        "      <td> 0.12</td>\n",
        "      <td> 0.11</td>\n",
        "      <td> 0.11</td>\n",
        "      <td> 0.13</td>\n",
        "      <td> 1.09</td>\n",
        "    </tr>\n",
        "    <tr>\n",
        "      <th>AAA43185</th>\n",
        "      <td> 0.11</td>\n",
        "      <td> 0.12</td>\n",
        "      <td> 0.00</td>\n",
        "      <td> 1.03</td>\n",
        "      <td> 0.12</td>\n",
        "      <td> 0.13</td>\n",
        "      <td> 0.14</td>\n",
        "      <td> 0.13</td>\n",
        "      <td> 0.13</td>\n",
        "      <td> 1.10</td>\n",
        "    </tr>\n",
        "    <tr>\n",
        "      <th>AAA43205</th>\n",
        "      <td> 1.02</td>\n",
        "      <td> 1.02</td>\n",
        "      <td> 1.03</td>\n",
        "      <td> 0.00</td>\n",
        "      <td> 1.02</td>\n",
        "      <td> 1.02</td>\n",
        "      <td> 1.02</td>\n",
        "      <td> 1.03</td>\n",
        "      <td> 1.03</td>\n",
        "      <td> 0.76</td>\n",
        "    </tr>\n",
        "    <tr>\n",
        "      <th>AAA43243</th>\n",
        "      <td> 0.10</td>\n",
        "      <td> 0.08</td>\n",
        "      <td> 0.12</td>\n",
        "      <td> 1.02</td>\n",
        "      <td> 0.00</td>\n",
        "      <td> 0.12</td>\n",
        "      <td> 0.12</td>\n",
        "      <td> 0.12</td>\n",
        "      <td> 0.13</td>\n",
        "      <td> 1.09</td>\n",
        "    </tr>\n",
        "    <tr>\n",
        "      <th>AAA43247</th>\n",
        "      <td> 0.13</td>\n",
        "      <td> 0.12</td>\n",
        "      <td> 0.13</td>\n",
        "      <td> 1.02</td>\n",
        "      <td> 0.12</td>\n",
        "      <td> 0.00</td>\n",
        "      <td> 0.15</td>\n",
        "      <td> 0.09</td>\n",
        "      <td> 0.08</td>\n",
        "      <td> 1.10</td>\n",
        "    </tr>\n",
        "    <tr>\n",
        "      <th>AAA43248</th>\n",
        "      <td> 0.13</td>\n",
        "      <td> 0.11</td>\n",
        "      <td> 0.14</td>\n",
        "      <td> 1.02</td>\n",
        "      <td> 0.12</td>\n",
        "      <td> 0.15</td>\n",
        "      <td> 0.00</td>\n",
        "      <td> 0.15</td>\n",
        "      <td> 0.15</td>\n",
        "      <td> 1.10</td>\n",
        "    </tr>\n",
        "    <tr>\n",
        "      <th>AAA43578</th>\n",
        "      <td> 0.12</td>\n",
        "      <td> 0.11</td>\n",
        "      <td> 0.13</td>\n",
        "      <td> 1.03</td>\n",
        "      <td> 0.12</td>\n",
        "      <td> 0.09</td>\n",
        "      <td> 0.15</td>\n",
        "      <td> 0.00</td>\n",
        "      <td> 0.10</td>\n",
        "      <td> 1.11</td>\n",
        "    </tr>\n",
        "    <tr>\n",
        "      <th>AAA43678</th>\n",
        "      <td> 0.14</td>\n",
        "      <td> 0.13</td>\n",
        "      <td> 0.13</td>\n",
        "      <td> 1.03</td>\n",
        "      <td> 0.13</td>\n",
        "      <td> 0.08</td>\n",
        "      <td> 0.15</td>\n",
        "      <td> 0.10</td>\n",
        "      <td> 0.00</td>\n",
        "      <td> 1.11</td>\n",
        "    </tr>\n",
        "    <tr>\n",
        "      <th>AAA72339</th>\n",
        "      <td> 1.09</td>\n",
        "      <td> 1.09</td>\n",
        "      <td> 1.10</td>\n",
        "      <td> 0.76</td>\n",
        "      <td> 1.09</td>\n",
        "      <td> 1.10</td>\n",
        "      <td> 1.10</td>\n",
        "      <td> 1.11</td>\n",
        "      <td> 1.11</td>\n",
        "      <td> 0.00</td>\n",
        "    </tr>\n",
        "  </tbody>\n",
        "</table>\n",
        "</div>"
       ],
       "metadata": {},
       "output_type": "pyout",
       "prompt_number": 36,
       "text": [
        "          AAA43090  AAA43117  AAA43185  AAA43205  AAA43243  AAA43247  \\\n",
        "p_id                                                                   \n",
        "AAA43090      0.00      0.11      0.11      1.02      0.10      0.13   \n",
        "AAA43117      0.11      0.00      0.12      1.02      0.08      0.12   \n",
        "AAA43185      0.11      0.12      0.00      1.03      0.12      0.13   \n",
        "AAA43205      1.02      1.02      1.03      0.00      1.02      1.02   \n",
        "AAA43243      0.10      0.08      0.12      1.02      0.00      0.12   \n",
        "AAA43247      0.13      0.12      0.13      1.02      0.12      0.00   \n",
        "AAA43248      0.13      0.11      0.14      1.02      0.12      0.15   \n",
        "AAA43578      0.12      0.11      0.13      1.03      0.12      0.09   \n",
        "AAA43678      0.14      0.13      0.13      1.03      0.13      0.08   \n",
        "AAA72339      1.09      1.09      1.10      0.76      1.09      1.10   \n",
        "\n",
        "          AAA43248  AAA43578  AAA43678  AAA72339  \n",
        "p_id                                              \n",
        "AAA43090      0.13      0.12      0.14      1.09  \n",
        "AAA43117      0.11      0.11      0.13      1.09  \n",
        "AAA43185      0.14      0.13      0.13      1.10  \n",
        "AAA43205      1.02      1.03      1.03      0.76  \n",
        "AAA43243      0.12      0.12      0.13      1.09  \n",
        "AAA43247      0.15      0.09      0.08      1.10  \n",
        "AAA43248      0.00      0.15      0.15      1.10  \n",
        "AAA43578      0.15      0.00      0.10      1.11  \n",
        "AAA43678      0.15      0.10      0.00      1.11  \n",
        "AAA72339      1.10      1.11      1.11      0.00  "
       ]
      }
     ],
     "prompt_number": 36
    },
    {
     "cell_type": "code",
     "collapsed": false,
     "input": [
      "# Merging data with id-serotype map\n",
      "data = pd.merge(maps, selection, right_on=selection.index, left_on=maps.index, how='inner')\n",
      "#data = data.rename(columns={'key_0':'p_id'})\n",
      "#data = data.set_index(['p_id'])\n",
      "\n",
      "# Ordering by serotype and repositioning columns with respect to new row position\n",
      "#data = data.sort(['sero',], ascending=[0])\n",
      "#data = data.reindex(columns=data.index)\n",
      "#subset = df.ix[66:1070, 660:1070]"
     ],
     "language": "python",
     "metadata": {},
     "outputs": [
      {
       "ename": "AttributeError",
       "evalue": "'NotImplementedType' object has no attribute 'dtype'",
       "output_type": "pyerr",
       "traceback": [
        "\u001b[0;31m---------------------------------------------------------------------------\u001b[0m\n\u001b[0;31mAttributeError\u001b[0m                            Traceback (most recent call last)",
        "\u001b[0;32m<ipython-input-41-2e3f8bec4654>\u001b[0m in \u001b[0;36m<module>\u001b[0;34m()\u001b[0m\n\u001b[1;32m      1\u001b[0m \u001b[0;31m# Merging data with id-serotype map\u001b[0m\u001b[0;34m\u001b[0m\u001b[0;34m\u001b[0m\u001b[0m\n\u001b[0;32m----> 2\u001b[0;31m \u001b[0mdata\u001b[0m \u001b[0;34m=\u001b[0m \u001b[0mpd\u001b[0m\u001b[0;34m.\u001b[0m\u001b[0mmerge\u001b[0m\u001b[0;34m(\u001b[0m\u001b[0mmaps\u001b[0m\u001b[0;34m,\u001b[0m \u001b[0mselection\u001b[0m\u001b[0;34m,\u001b[0m \u001b[0mright_on\u001b[0m\u001b[0;34m=\u001b[0m\u001b[0mselection\u001b[0m\u001b[0;34m.\u001b[0m\u001b[0mindex\u001b[0m\u001b[0;34m,\u001b[0m \u001b[0mleft_on\u001b[0m\u001b[0;34m=\u001b[0m\u001b[0mmaps\u001b[0m\u001b[0;34m.\u001b[0m\u001b[0mindex\u001b[0m\u001b[0;34m,\u001b[0m \u001b[0mhow\u001b[0m\u001b[0;34m=\u001b[0m\u001b[0;34m'inner'\u001b[0m\u001b[0;34m)\u001b[0m\u001b[0;34m\u001b[0m\u001b[0m\n\u001b[0m\u001b[1;32m      3\u001b[0m \u001b[0;31m#data = data.rename(columns={'key_0':'p_id'})\u001b[0m\u001b[0;34m\u001b[0m\u001b[0;34m\u001b[0m\u001b[0m\n\u001b[1;32m      4\u001b[0m \u001b[0;31m#data = data.set_index(['p_id'])\u001b[0m\u001b[0;34m\u001b[0m\u001b[0;34m\u001b[0m\u001b[0m\n\u001b[1;32m      5\u001b[0m \u001b[0;34m\u001b[0m\u001b[0m\n",
        "\u001b[0;32m/Users/johnny/anaconda/lib/python2.7/site-packages/pandas/tools/merge.pyc\u001b[0m in \u001b[0;36mmerge\u001b[0;34m(left, right, how, on, left_on, right_on, left_index, right_index, sort, suffixes, copy)\u001b[0m\n\u001b[1;32m     36\u001b[0m                          \u001b[0mright_on\u001b[0m\u001b[0;34m=\u001b[0m\u001b[0mright_on\u001b[0m\u001b[0;34m,\u001b[0m \u001b[0mleft_index\u001b[0m\u001b[0;34m=\u001b[0m\u001b[0mleft_index\u001b[0m\u001b[0;34m,\u001b[0m\u001b[0;34m\u001b[0m\u001b[0m\n\u001b[1;32m     37\u001b[0m                          \u001b[0mright_index\u001b[0m\u001b[0;34m=\u001b[0m\u001b[0mright_index\u001b[0m\u001b[0;34m,\u001b[0m \u001b[0msort\u001b[0m\u001b[0;34m=\u001b[0m\u001b[0msort\u001b[0m\u001b[0;34m,\u001b[0m \u001b[0msuffixes\u001b[0m\u001b[0;34m=\u001b[0m\u001b[0msuffixes\u001b[0m\u001b[0;34m,\u001b[0m\u001b[0;34m\u001b[0m\u001b[0m\n\u001b[0;32m---> 38\u001b[0;31m                          copy=copy)\n\u001b[0m\u001b[1;32m     39\u001b[0m     \u001b[0;32mreturn\u001b[0m \u001b[0mop\u001b[0m\u001b[0;34m.\u001b[0m\u001b[0mget_result\u001b[0m\u001b[0;34m(\u001b[0m\u001b[0;34m)\u001b[0m\u001b[0;34m\u001b[0m\u001b[0m\n\u001b[1;32m     40\u001b[0m \u001b[0;32mif\u001b[0m \u001b[0m__debug__\u001b[0m\u001b[0;34m:\u001b[0m\u001b[0;34m\u001b[0m\u001b[0m\n",
        "\u001b[0;32m/Users/johnny/anaconda/lib/python2.7/site-packages/pandas/tools/merge.pyc\u001b[0m in \u001b[0;36m__init__\u001b[0;34m(self, left, right, how, on, left_on, right_on, axis, left_index, right_index, sort, suffixes, copy)\u001b[0m\n\u001b[1;32m    182\u001b[0m         (self.left_join_keys,\n\u001b[1;32m    183\u001b[0m          \u001b[0mself\u001b[0m\u001b[0;34m.\u001b[0m\u001b[0mright_join_keys\u001b[0m\u001b[0;34m,\u001b[0m\u001b[0;34m\u001b[0m\u001b[0m\n\u001b[0;32m--> 184\u001b[0;31m          self.join_names) = self._get_merge_keys()\n\u001b[0m\u001b[1;32m    185\u001b[0m \u001b[0;34m\u001b[0m\u001b[0m\n\u001b[1;32m    186\u001b[0m     \u001b[0;32mdef\u001b[0m \u001b[0mget_result\u001b[0m\u001b[0;34m(\u001b[0m\u001b[0mself\u001b[0m\u001b[0;34m)\u001b[0m\u001b[0;34m:\u001b[0m\u001b[0;34m\u001b[0m\u001b[0m\n",
        "\u001b[0;32m/Users/johnny/anaconda/lib/python2.7/site-packages/pandas/tools/merge.pyc\u001b[0m in \u001b[0;36m_get_merge_keys\u001b[0;34m(self)\u001b[0m\n\u001b[1;32m    343\u001b[0m                     \u001b[0;32mif\u001b[0m \u001b[0;32mnot\u001b[0m \u001b[0mis_rkey\u001b[0m\u001b[0;34m(\u001b[0m\u001b[0mrk\u001b[0m\u001b[0;34m)\u001b[0m\u001b[0;34m:\u001b[0m\u001b[0;34m\u001b[0m\u001b[0m\n\u001b[1;32m    344\u001b[0m                         \u001b[0mright_keys\u001b[0m\u001b[0;34m.\u001b[0m\u001b[0mappend\u001b[0m\u001b[0;34m(\u001b[0m\u001b[0mright\u001b[0m\u001b[0;34m[\u001b[0m\u001b[0mrk\u001b[0m\u001b[0;34m]\u001b[0m\u001b[0;34m.\u001b[0m\u001b[0mvalues\u001b[0m\u001b[0;34m)\u001b[0m\u001b[0;34m\u001b[0m\u001b[0m\n\u001b[0;32m--> 345\u001b[0;31m                         \u001b[0;32mif\u001b[0m \u001b[0mlk\u001b[0m \u001b[0;34m==\u001b[0m \u001b[0mrk\u001b[0m\u001b[0;34m:\u001b[0m\u001b[0;34m\u001b[0m\u001b[0m\n\u001b[0m\u001b[1;32m    346\u001b[0m                             \u001b[0;31m# avoid key upcast in corner case (length-0)\u001b[0m\u001b[0;34m\u001b[0m\u001b[0;34m\u001b[0m\u001b[0m\n\u001b[1;32m    347\u001b[0m                             \u001b[0;32mif\u001b[0m \u001b[0mlen\u001b[0m\u001b[0;34m(\u001b[0m\u001b[0mleft\u001b[0m\u001b[0;34m)\u001b[0m \u001b[0;34m>\u001b[0m \u001b[0;36m0\u001b[0m\u001b[0;34m:\u001b[0m\u001b[0;34m\u001b[0m\u001b[0m\n",
        "\u001b[0;32m/Users/johnny/anaconda/lib/python2.7/site-packages/pandas/core/index.pyc\u001b[0m in \u001b[0;36mwrapper\u001b[0;34m(self, other)\u001b[0m\n\u001b[1;32m     55\u001b[0m         \u001b[0;31m# technically we could support bool dtyped Index\u001b[0m\u001b[0;34m\u001b[0m\u001b[0;34m\u001b[0m\u001b[0m\n\u001b[1;32m     56\u001b[0m         \u001b[0;31m# for now just return the indexing array directly\u001b[0m\u001b[0;34m\u001b[0m\u001b[0;34m\u001b[0m\u001b[0m\n\u001b[0;32m---> 57\u001b[0;31m         \u001b[0;32mif\u001b[0m \u001b[0mcom\u001b[0m\u001b[0;34m.\u001b[0m\u001b[0mis_bool_dtype\u001b[0m\u001b[0;34m(\u001b[0m\u001b[0mresult\u001b[0m\u001b[0;34m)\u001b[0m\u001b[0;34m:\u001b[0m\u001b[0;34m\u001b[0m\u001b[0m\n\u001b[0m\u001b[1;32m     58\u001b[0m             \u001b[0;32mreturn\u001b[0m \u001b[0mresult\u001b[0m\u001b[0;34m\u001b[0m\u001b[0m\n\u001b[1;32m     59\u001b[0m         \u001b[0;32mtry\u001b[0m\u001b[0;34m:\u001b[0m\u001b[0;34m\u001b[0m\u001b[0m\n",
        "\u001b[0;32m/Users/johnny/anaconda/lib/python2.7/site-packages/pandas/core/common.pyc\u001b[0m in \u001b[0;36mis_bool_dtype\u001b[0;34m(arr_or_dtype)\u001b[0m\n\u001b[1;32m   2463\u001b[0m \u001b[0;34m\u001b[0m\u001b[0m\n\u001b[1;32m   2464\u001b[0m \u001b[0;32mdef\u001b[0m \u001b[0mis_bool_dtype\u001b[0m\u001b[0;34m(\u001b[0m\u001b[0marr_or_dtype\u001b[0m\u001b[0;34m)\u001b[0m\u001b[0;34m:\u001b[0m\u001b[0;34m\u001b[0m\u001b[0m\n\u001b[0;32m-> 2465\u001b[0;31m     \u001b[0mtipo\u001b[0m \u001b[0;34m=\u001b[0m \u001b[0m_get_dtype_type\u001b[0m\u001b[0;34m(\u001b[0m\u001b[0marr_or_dtype\u001b[0m\u001b[0;34m)\u001b[0m\u001b[0;34m\u001b[0m\u001b[0m\n\u001b[0m\u001b[1;32m   2466\u001b[0m     \u001b[0;32mreturn\u001b[0m \u001b[0missubclass\u001b[0m\u001b[0;34m(\u001b[0m\u001b[0mtipo\u001b[0m\u001b[0;34m,\u001b[0m \u001b[0mnp\u001b[0m\u001b[0;34m.\u001b[0m\u001b[0mbool_\u001b[0m\u001b[0;34m)\u001b[0m\u001b[0;34m\u001b[0m\u001b[0m\n\u001b[1;32m   2467\u001b[0m \u001b[0;34m\u001b[0m\u001b[0m\n",
        "\u001b[0;32m/Users/johnny/anaconda/lib/python2.7/site-packages/pandas/core/common.pyc\u001b[0m in \u001b[0;36m_get_dtype_type\u001b[0;34m(arr_or_dtype)\u001b[0m\n\u001b[1;32m   2392\u001b[0m     \u001b[0;32melif\u001b[0m \u001b[0misinstance\u001b[0m\u001b[0;34m(\u001b[0m\u001b[0marr_or_dtype\u001b[0m\u001b[0;34m,\u001b[0m \u001b[0mCategoricalDtype\u001b[0m\u001b[0;34m)\u001b[0m\u001b[0;34m:\u001b[0m\u001b[0;34m\u001b[0m\u001b[0m\n\u001b[1;32m   2393\u001b[0m         \u001b[0;32mreturn\u001b[0m \u001b[0mCategoricalDtypeType\u001b[0m\u001b[0;34m\u001b[0m\u001b[0m\n\u001b[0;32m-> 2394\u001b[0;31m     \u001b[0;32mreturn\u001b[0m \u001b[0marr_or_dtype\u001b[0m\u001b[0;34m.\u001b[0m\u001b[0mdtype\u001b[0m\u001b[0;34m.\u001b[0m\u001b[0mtype\u001b[0m\u001b[0;34m\u001b[0m\u001b[0m\n\u001b[0m\u001b[1;32m   2395\u001b[0m \u001b[0;34m\u001b[0m\u001b[0m\n\u001b[1;32m   2396\u001b[0m \u001b[0;34m\u001b[0m\u001b[0m\n",
        "\u001b[0;31mAttributeError\u001b[0m: 'NotImplementedType' object has no attribute 'dtype'"
       ]
      }
     ],
     "prompt_number": 41
    },
    {
     "cell_type": "code",
     "collapsed": false,
     "input": [
      "# Export table and list to csv files ...\n",
      "#data.to_csv('sorted_table_2', sep='\\t')"
     ],
     "language": "python",
     "metadata": {},
     "outputs": [],
     "prompt_number": 12
    },
    {
     "cell_type": "code",
     "collapsed": false,
     "input": [
      "# Take the class names (ref and cl lists can be used for serotype/protein data labeling)\n",
      "ref = data.index\n",
      "cl = [maps.sero[i] for i in ref]\n",
      "\n",
      "[print (i) for i in ref]\n",
      "\n",
      "# This doesn't work, report the bug to developers\n",
      "#\n",
      "#ref_class = open('ref_class.txt', 'a')\n",
      "#[ref_class.write('%s\\n' %j) for j in cl]"
     ],
     "language": "python",
     "metadata": {},
     "outputs": [
      {
       "ename": "SyntaxError",
       "evalue": "invalid syntax (<ipython-input-10-86cf070b2627>, line 5)",
       "output_type": "pyerr",
       "traceback": [
        "\u001b[0;36m  File \u001b[0;32m\"<ipython-input-10-86cf070b2627>\"\u001b[0;36m, line \u001b[0;32m5\u001b[0m\n\u001b[0;31m    [print (i) for i in ref]\u001b[0m\n\u001b[0m         ^\u001b[0m\n\u001b[0;31mSyntaxError\u001b[0m\u001b[0;31m:\u001b[0m invalid syntax\n"
       ]
      }
     ],
     "prompt_number": 10
    },
    {
     "cell_type": "code",
     "collapsed": false,
     "input": [
      "# Cell for plotting heatmap\n",
      "@jit\n",
      "def plot():\n",
      "    %matplotlib inline\n",
      "    fig = plt.figure(figsize=(200, 200), dpi=300)\n",
      "\n",
      "    plt.pcolor(data, cmap=plt.cm.Blues)\n",
      "    plt.xticks(np.arange(0.5, len(data.index), 1), ref, fontsize=10, rotation='vertical')\n",
      "    plt.yticks(np.arange(0.5, len(data.columns), 1), ref, fontsize=10, rotation='horizontal')\n",
      "    #plt.show()\n",
      "    \n",
      "    fig1 = plt.gcf()\n",
      "    plt.show()\n",
      "    plt.draw()\n",
      "    fig1.savefig('tessstttyyy.png', dpi=300)\n",
      "    \n",
      "plot()"
     ],
     "language": "python",
     "metadata": {},
     "outputs": [
      {
       "ename": "AttributeError",
       "evalue": "'object' object has no attribute 'index'",
       "output_type": "pyerr",
       "traceback": [
        "\u001b[0;31m---------------------------------------------------------------------------\u001b[0m\n\u001b[0;31mAttributeError\u001b[0m                            Traceback (most recent call last)",
        "\u001b[0;32m<ipython-input-6-0a903bcc270a>\u001b[0m in \u001b[0;36m<module>\u001b[0;34m()\u001b[0m\n\u001b[1;32m     15\u001b[0m     \u001b[0mfig1\u001b[0m\u001b[0;34m.\u001b[0m\u001b[0msavefig\u001b[0m\u001b[0;34m(\u001b[0m\u001b[0;34m'tessstttyyy.png'\u001b[0m\u001b[0;34m,\u001b[0m \u001b[0mdpi\u001b[0m\u001b[0;34m=\u001b[0m\u001b[0;36m300\u001b[0m\u001b[0;34m)\u001b[0m\u001b[0;34m\u001b[0m\u001b[0m\n\u001b[1;32m     16\u001b[0m \u001b[0;34m\u001b[0m\u001b[0m\n\u001b[0;32m---> 17\u001b[0;31m \u001b[0mplot\u001b[0m\u001b[0;34m(\u001b[0m\u001b[0;34m)\u001b[0m\u001b[0;34m\u001b[0m\u001b[0m\n\u001b[0m",
        "\u001b[0;32m/Users/johnny/anaconda/lib/python2.7/site-packages/numba/dispatcher.pyc\u001b[0m in \u001b[0;36m_compile_for_args\u001b[0;34m(self, *args, **kws)\u001b[0m\n\u001b[1;32m    143\u001b[0m         \u001b[0;32massert\u001b[0m \u001b[0;32mnot\u001b[0m \u001b[0mkws\u001b[0m\u001b[0;34m\u001b[0m\u001b[0m\n\u001b[1;32m    144\u001b[0m         \u001b[0msig\u001b[0m \u001b[0;34m=\u001b[0m \u001b[0mtuple\u001b[0m\u001b[0;34m(\u001b[0m\u001b[0;34m[\u001b[0m\u001b[0mself\u001b[0m\u001b[0;34m.\u001b[0m\u001b[0mtypeof_pyval\u001b[0m\u001b[0;34m(\u001b[0m\u001b[0ma\u001b[0m\u001b[0;34m)\u001b[0m \u001b[0;32mfor\u001b[0m \u001b[0ma\u001b[0m \u001b[0;32min\u001b[0m \u001b[0margs\u001b[0m\u001b[0;34m]\u001b[0m\u001b[0;34m)\u001b[0m\u001b[0;34m\u001b[0m\u001b[0m\n\u001b[0;32m--> 145\u001b[0;31m         \u001b[0;32mreturn\u001b[0m \u001b[0mself\u001b[0m\u001b[0;34m.\u001b[0m\u001b[0mjit\u001b[0m\u001b[0;34m(\u001b[0m\u001b[0msig\u001b[0m\u001b[0;34m)\u001b[0m\u001b[0;34m\u001b[0m\u001b[0m\n\u001b[0m\u001b[1;32m    146\u001b[0m \u001b[0;34m\u001b[0m\u001b[0m\n\u001b[1;32m    147\u001b[0m     \u001b[0;32mdef\u001b[0m \u001b[0minspect_types\u001b[0m\u001b[0;34m(\u001b[0m\u001b[0mself\u001b[0m\u001b[0;34m,\u001b[0m \u001b[0mfile\u001b[0m\u001b[0;34m=\u001b[0m\u001b[0mNone\u001b[0m\u001b[0;34m)\u001b[0m\u001b[0;34m:\u001b[0m\u001b[0;34m\u001b[0m\u001b[0m\n",
        "\u001b[0;32m/Users/johnny/anaconda/lib/python2.7/site-packages/numba/dispatcher.pyc\u001b[0m in \u001b[0;36mjit\u001b[0;34m(self, sig, **kws)\u001b[0m\n\u001b[1;32m    134\u001b[0m         \"\"\"Alias of compile(sig, **kws)\n\u001b[1;32m    135\u001b[0m         \"\"\"\n\u001b[0;32m--> 136\u001b[0;31m         \u001b[0;32mreturn\u001b[0m \u001b[0mself\u001b[0m\u001b[0;34m.\u001b[0m\u001b[0mcompile\u001b[0m\u001b[0;34m(\u001b[0m\u001b[0msig\u001b[0m\u001b[0;34m,\u001b[0m \u001b[0;34m**\u001b[0m\u001b[0mkws\u001b[0m\u001b[0;34m)\u001b[0m\u001b[0;34m\u001b[0m\u001b[0m\n\u001b[0m\u001b[1;32m    137\u001b[0m \u001b[0;34m\u001b[0m\u001b[0m\n\u001b[1;32m    138\u001b[0m     \u001b[0;32mdef\u001b[0m \u001b[0m_compile_for_args\u001b[0m\u001b[0;34m(\u001b[0m\u001b[0mself\u001b[0m\u001b[0;34m,\u001b[0m \u001b[0;34m*\u001b[0m\u001b[0margs\u001b[0m\u001b[0;34m,\u001b[0m \u001b[0;34m**\u001b[0m\u001b[0mkws\u001b[0m\u001b[0;34m)\u001b[0m\u001b[0;34m:\u001b[0m\u001b[0;34m\u001b[0m\u001b[0m\n",
        "\u001b[0;32m/Users/johnny/anaconda/lib/python2.7/site-packages/numba/dispatcher.pyc\u001b[0m in \u001b[0;36mcompile\u001b[0;34m(self, sig, locals, **targetoptions)\u001b[0m\n\u001b[1;32m    236\u001b[0m                                           \u001b[0mself\u001b[0m\u001b[0;34m.\u001b[0m\u001b[0mpy_func\u001b[0m\u001b[0;34m,\u001b[0m\u001b[0;34m\u001b[0m\u001b[0m\n\u001b[1;32m    237\u001b[0m                                           \u001b[0margs\u001b[0m\u001b[0;34m=\u001b[0m\u001b[0margs\u001b[0m\u001b[0;34m,\u001b[0m \u001b[0mreturn_type\u001b[0m\u001b[0;34m=\u001b[0m\u001b[0mreturn_type\u001b[0m\u001b[0;34m,\u001b[0m\u001b[0;34m\u001b[0m\u001b[0m\n\u001b[0;32m--> 238\u001b[0;31m                                           flags=flags, locals=locs)\n\u001b[0m\u001b[1;32m    239\u001b[0m \u001b[0;34m\u001b[0m\u001b[0m\n\u001b[1;32m    240\u001b[0m             \u001b[0;31m# Check typing error if object mode is used\u001b[0m\u001b[0;34m\u001b[0m\u001b[0;34m\u001b[0m\u001b[0m\n",
        "\u001b[0;32m/Users/johnny/anaconda/lib/python2.7/site-packages/numba/compiler.pyc\u001b[0m in \u001b[0;36mcompile_extra\u001b[0;34m(typingctx, targetctx, func, args, return_type, flags, locals)\u001b[0m\n\u001b[1;32m    149\u001b[0m     return compile_bytecode(typingctx, targetctx, bc, args,\n\u001b[1;32m    150\u001b[0m                             \u001b[0mreturn_type\u001b[0m\u001b[0;34m,\u001b[0m \u001b[0mflags\u001b[0m\u001b[0;34m,\u001b[0m \u001b[0mlocals\u001b[0m\u001b[0;34m,\u001b[0m\u001b[0;34m\u001b[0m\u001b[0m\n\u001b[0;32m--> 151\u001b[0;31m                             func_attr=func_attr)\n\u001b[0m\u001b[1;32m    152\u001b[0m \u001b[0;34m\u001b[0m\u001b[0m\n\u001b[1;32m    153\u001b[0m \u001b[0;34m\u001b[0m\u001b[0m\n",
        "\u001b[0;32m/Users/johnny/anaconda/lib/python2.7/site-packages/numba/compiler.pyc\u001b[0m in \u001b[0;36mcompile_bytecode\u001b[0;34m(typingctx, targetctx, bc, args, return_type, flags, locals, lifted, func_attr)\u001b[0m\n\u001b[1;32m    160\u001b[0m \u001b[0;34m\u001b[0m\u001b[0m\n\u001b[1;32m    161\u001b[0m     return _compile_core(typingctx, targetctx, bc, args, return_type, flags,\n\u001b[0;32m--> 162\u001b[0;31m                          locals, lifted, func_attr, status)\n\u001b[0m\u001b[1;32m    163\u001b[0m \u001b[0;34m\u001b[0m\u001b[0m\n\u001b[1;32m    164\u001b[0m \u001b[0;34m\u001b[0m\u001b[0m\n",
        "\u001b[0;32m/Users/johnny/anaconda/lib/python2.7/site-packages/numba/compiler.pyc\u001b[0m in \u001b[0;36m_compile_core\u001b[0;34m(typingctx, targetctx, bc, args, return_type, flags, locals, lifted, func_attr, status)\u001b[0m\n\u001b[1;32m    186\u001b[0m                   lifted, func_attr, status):\n\u001b[1;32m    187\u001b[0m     \u001b[0;31m### Front-end: Analyze bytecode, generate Numba IR, infer types\u001b[0m\u001b[0;34m\u001b[0m\u001b[0;34m\u001b[0m\u001b[0m\n\u001b[0;32m--> 188\u001b[0;31m     \u001b[0minterp\u001b[0m \u001b[0;34m=\u001b[0m \u001b[0mtranslate_stage\u001b[0m\u001b[0;34m(\u001b[0m\u001b[0mbc\u001b[0m\u001b[0;34m)\u001b[0m\u001b[0;34m\u001b[0m\u001b[0m\n\u001b[0m\u001b[1;32m    189\u001b[0m     \u001b[0mnargs\u001b[0m \u001b[0;34m=\u001b[0m \u001b[0mlen\u001b[0m\u001b[0;34m(\u001b[0m\u001b[0minterp\u001b[0m\u001b[0;34m.\u001b[0m\u001b[0margspec\u001b[0m\u001b[0;34m.\u001b[0m\u001b[0margs\u001b[0m\u001b[0;34m)\u001b[0m\u001b[0;34m\u001b[0m\u001b[0m\n\u001b[1;32m    190\u001b[0m     \u001b[0;32mif\u001b[0m \u001b[0mlen\u001b[0m\u001b[0;34m(\u001b[0m\u001b[0margs\u001b[0m\u001b[0;34m)\u001b[0m \u001b[0;34m>\u001b[0m \u001b[0mnargs\u001b[0m\u001b[0;34m:\u001b[0m\u001b[0;34m\u001b[0m\u001b[0m\n",
        "\u001b[0;32m/Users/johnny/anaconda/lib/python2.7/site-packages/numba/compiler.pyc\u001b[0m in \u001b[0;36mtranslate_stage\u001b[0;34m(bytecode)\u001b[0m\n\u001b[1;32m    367\u001b[0m         \u001b[0minterp\u001b[0m\u001b[0;34m.\u001b[0m\u001b[0mdump\u001b[0m\u001b[0;34m(\u001b[0m\u001b[0;34m)\u001b[0m\u001b[0;34m\u001b[0m\u001b[0m\n\u001b[1;32m    368\u001b[0m \u001b[0;34m\u001b[0m\u001b[0m\n\u001b[0;32m--> 369\u001b[0;31m     \u001b[0mmacro\u001b[0m\u001b[0;34m.\u001b[0m\u001b[0mexpand_macros\u001b[0m\u001b[0;34m(\u001b[0m\u001b[0minterp\u001b[0m\u001b[0;34m.\u001b[0m\u001b[0mblocks\u001b[0m\u001b[0;34m)\u001b[0m\u001b[0;34m\u001b[0m\u001b[0m\n\u001b[0m\u001b[1;32m    370\u001b[0m \u001b[0;34m\u001b[0m\u001b[0m\n\u001b[1;32m    371\u001b[0m     \u001b[0;32mif\u001b[0m \u001b[0mconfig\u001b[0m\u001b[0;34m.\u001b[0m\u001b[0mDUMP_IR\u001b[0m\u001b[0;34m:\u001b[0m\u001b[0;34m\u001b[0m\u001b[0m\n",
        "\u001b[0;32m/Users/johnny/anaconda/lib/python2.7/site-packages/numba/macro.pyc\u001b[0m in \u001b[0;36mexpand_macros\u001b[0;34m(blocks)\u001b[0m\n\u001b[1;32m     11\u001b[0m     \u001b[0mconstants\u001b[0m \u001b[0;34m=\u001b[0m \u001b[0;34m{\u001b[0m\u001b[0;34m}\u001b[0m\u001b[0;34m\u001b[0m\u001b[0m\n\u001b[1;32m     12\u001b[0m     \u001b[0;32mfor\u001b[0m \u001b[0mblk\u001b[0m \u001b[0;32min\u001b[0m \u001b[0mblocks\u001b[0m\u001b[0;34m.\u001b[0m\u001b[0mvalues\u001b[0m\u001b[0;34m(\u001b[0m\u001b[0;34m)\u001b[0m\u001b[0;34m:\u001b[0m\u001b[0;34m\u001b[0m\u001b[0m\n\u001b[0;32m---> 13\u001b[0;31m         \u001b[0mmodule_getattr_folding\u001b[0m\u001b[0;34m(\u001b[0m\u001b[0mconstants\u001b[0m\u001b[0;34m,\u001b[0m \u001b[0mblk\u001b[0m\u001b[0;34m)\u001b[0m\u001b[0;34m\u001b[0m\u001b[0m\n\u001b[0m\u001b[1;32m     14\u001b[0m         \u001b[0mexpand_macros_in_block\u001b[0m\u001b[0;34m(\u001b[0m\u001b[0mconstants\u001b[0m\u001b[0;34m,\u001b[0m \u001b[0mblk\u001b[0m\u001b[0;34m)\u001b[0m\u001b[0;34m\u001b[0m\u001b[0m\n\u001b[1;32m     15\u001b[0m \u001b[0;34m\u001b[0m\u001b[0m\n",
        "\u001b[0;32m/Users/johnny/anaconda/lib/python2.7/site-packages/numba/macro.pyc\u001b[0m in \u001b[0;36mmodule_getattr_folding\u001b[0;34m(constants, block)\u001b[0m\n\u001b[1;32m     26\u001b[0m                 \u001b[0;32mif\u001b[0m \u001b[0mrhs\u001b[0m\u001b[0;34m.\u001b[0m\u001b[0mvalue\u001b[0m\u001b[0;34m.\u001b[0m\u001b[0mname\u001b[0m \u001b[0;32min\u001b[0m \u001b[0mconstants\u001b[0m\u001b[0;34m:\u001b[0m\u001b[0;34m\u001b[0m\u001b[0m\n\u001b[1;32m     27\u001b[0m                     \u001b[0mbase\u001b[0m \u001b[0;34m=\u001b[0m \u001b[0mconstants\u001b[0m\u001b[0;34m[\u001b[0m\u001b[0mrhs\u001b[0m\u001b[0;34m.\u001b[0m\u001b[0mvalue\u001b[0m\u001b[0;34m.\u001b[0m\u001b[0mname\u001b[0m\u001b[0;34m]\u001b[0m\u001b[0;34m\u001b[0m\u001b[0m\n\u001b[0;32m---> 28\u001b[0;31m                     \u001b[0mconstants\u001b[0m\u001b[0;34m[\u001b[0m\u001b[0minst\u001b[0m\u001b[0;34m.\u001b[0m\u001b[0mtarget\u001b[0m\u001b[0;34m.\u001b[0m\u001b[0mname\u001b[0m\u001b[0;34m]\u001b[0m \u001b[0;34m=\u001b[0m \u001b[0mgetattr\u001b[0m\u001b[0;34m(\u001b[0m\u001b[0mbase\u001b[0m\u001b[0;34m,\u001b[0m \u001b[0mrhs\u001b[0m\u001b[0;34m.\u001b[0m\u001b[0mattr\u001b[0m\u001b[0;34m)\u001b[0m\u001b[0;34m\u001b[0m\u001b[0m\n\u001b[0m\u001b[1;32m     29\u001b[0m \u001b[0;34m\u001b[0m\u001b[0m\n\u001b[1;32m     30\u001b[0m             \u001b[0;32melif\u001b[0m \u001b[0misinstance\u001b[0m\u001b[0;34m(\u001b[0m\u001b[0mrhs\u001b[0m\u001b[0;34m,\u001b[0m \u001b[0mir\u001b[0m\u001b[0;34m.\u001b[0m\u001b[0mConst\u001b[0m\u001b[0;34m)\u001b[0m\u001b[0;34m:\u001b[0m\u001b[0;34m\u001b[0m\u001b[0m\n",
        "\u001b[0;31mAttributeError\u001b[0m: 'object' object has no attribute 'index'"
       ]
      }
     ],
     "prompt_number": 6
    },
    {
     "cell_type": "code",
     "collapsed": false,
     "input": [],
     "language": "python",
     "metadata": {},
     "outputs": []
    }
   ],
   "metadata": {}
  }
 ]
}