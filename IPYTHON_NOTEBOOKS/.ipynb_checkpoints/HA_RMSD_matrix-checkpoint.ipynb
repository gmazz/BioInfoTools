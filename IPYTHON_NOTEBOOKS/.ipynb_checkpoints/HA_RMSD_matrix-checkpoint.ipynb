{
 "metadata": {
  "name": "",
  "signature": "sha256:3933340b3a10fa269e41b5023f18693d6ba15cef5ecbe8dda3b28d74cc144bbc"
 },
 "nbformat": 3,
 "nbformat_minor": 0,
 "worksheets": [
  {
   "cells": [
    {
     "cell_type": "heading",
     "level": 3,
     "metadata": {},
     "source": [
      "Displaying distance matrices"
     ]
    },
    {
     "cell_type": "markdown",
     "metadata": {},
     "source": [
      "Read csv tables and display distrance matrices among objects (i.e. RMSD values between all proteins)"
     ]
    },
    {
     "cell_type": "code",
     "collapsed": false,
     "input": [
      "import numpy as np\n",
      "import pandas as pd\n",
      "from numba import jit\n",
      "import time\n",
      "import matplotlib.pyplot as plt"
     ],
     "language": "python",
     "metadata": {},
     "outputs": [],
     "prompt_number": 79
    },
    {
     "cell_type": "code",
     "collapsed": false,
     "input": [
      "# Block to evalutate operational time on a given function (i.e. main()).\n",
      "# Useful to compare performances of the numba @jit.\n",
      "\n",
      "#import time\n",
      "#start_time = time.time()\n",
      "#main()\n",
      "#print(\"--- %s seconds ---\" % time.time() - start_time)"
     ],
     "language": "python",
     "metadata": {},
     "outputs": [],
     "prompt_number": 157
    },
    {
     "cell_type": "code",
     "collapsed": false,
     "input": [
      "df = pd.read_csv('./data/RMSD_scores_global_tab.csv', index_col='p_id')\n",
      "maps = pd.read_csv('./data/id_classes.csv', index_col='p_id')"
     ],
     "language": "python",
     "metadata": {},
     "outputs": [],
     "prompt_number": 80
    },
    {
     "cell_type": "code",
     "collapsed": false,
     "input": [
      "# Table subselection for testing\n",
      "n_init = 0\n",
      "n_end = len(df.index)\n",
      "selection = df.ix[n_init:n_end, n_init:n_end]"
     ],
     "language": "python",
     "metadata": {},
     "outputs": [],
     "prompt_number": 81
    },
    {
     "cell_type": "code",
     "collapsed": false,
     "input": [
      "# Merging data with id-serotype map\n",
      "data = pd.merge(maps, selection, right_on=selection.index, left_on=maps.index, how='inner')\n",
      "data = data.rename(columns={'key_0': 'p_id'})\n",
      "data = data.set_index(['p_id'])\n",
      "\n",
      "# Ordering by serotype and repositioning columns with respect to new row position\n",
      "data = data.sort(['sero',], ascending=[0])\n",
      "data = data.reindex(columns=data.index)\n",
      "#subset = df.ix[66:1070, 660:1070]"
     ],
     "language": "python",
     "metadata": {},
     "outputs": [],
     "prompt_number": 82
    },
    {
     "cell_type": "code",
     "collapsed": false,
     "input": [
      "# Export table and list to csv files ...\n",
      "#data.to_csv('sorted_table_2', sep='\\t')"
     ],
     "language": "python",
     "metadata": {},
     "outputs": [],
     "prompt_number": 91
    },
    {
     "cell_type": "code",
     "collapsed": false,
     "input": [
      "# Take the class names (ref and cl lists can be used for serotype/protein data labeling)\n",
      "ref = data.index\n",
      "cl = [maps.sero[i] for i in ref]\n",
      "\n",
      "ref[1]\n",
      "#[print (i) for i in cl]\n",
      "\n",
      "# This doesn't work, report the bug to developers\n",
      "#\n",
      "#ref_class = open('ref_class.txt', 'a')\n",
      "#[ref_class.write('%s\\n' %j) for j in cl]"
     ],
     "language": "python",
     "metadata": {},
     "outputs": [
      {
       "metadata": {},
       "output_type": "pyout",
       "prompt_number": 145,
       "text": [
        "'ADP69273'"
       ]
      }
     ],
     "prompt_number": 145
    },
    {
     "cell_type": "code",
     "collapsed": false,
     "input": [
      "# Cell for plotting heatmap\n",
      "@jit\n",
      "def plot():\n",
      "    %matplotlib inline\n",
      "    fig = plt.figure(figsize=(200, 200), dpi=300)\n",
      "\n",
      "    plt.pcolor(data, cmap=plt.cm.Blues)\n",
      "    plt.xticks(np.arange(0.5, len(data.index), 1), ref, fontsize=10, rotation='vertical')\n",
      "    plt.yticks(np.arange(0.5, len(data.columns), 1), ref, fontsize=10, rotation='horizontal')\n",
      "    #plt.show()\n",
      "    \n",
      "    fig1 = plt.gcf()\n",
      "    plt.show()\n",
      "    plt.draw()\n",
      "    fig1.savefig('tessstttyyy.png', dpi=300)\n",
      "    \n",
      "plot()"
     ],
     "language": "python",
     "metadata": {},
     "outputs": [],
     "prompt_number": 31
    },
    {
     "cell_type": "code",
     "collapsed": false,
     "input": [],
     "language": "python",
     "metadata": {},
     "outputs": []
    }
   ],
   "metadata": {}
  }
 ]
}